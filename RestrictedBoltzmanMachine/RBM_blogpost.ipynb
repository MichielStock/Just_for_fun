{
 "cells": [
  {
   "cell_type": "markdown",
   "metadata": {},
   "source": [
    "# Recommending ingredients using restricted Boltzmann machines"
   ]
  },
  {
   "cell_type": "markdown",
   "metadata": {},
   "source": [
    "The most well-known applications of artificial neural networks is into supervised learning. Using a trainable non-linear expansion of the features, they can be used to classify images, identify odors identify genes and many other things.\n",
    "\n",
    "In contrast to supervised learning, which learns to map input to output, unsupervised learning deals with general patterns in data. It could be argued (and has been!) that the latter is the more challenging task, as it is fairly straightforward how to fit a function to labeled training data, while there is no obvious thing to optimize for finding patterns. Though in general, unsupervised learning is somewhat less well understood, it is likely the key to better AI applications, as in general we have much more unlabeled data to learn from compared to labeled data.\n",
    "\n",
    "In this post, we will discuss the restricted Bolzmann machine (RBM) as a way of fitting a distribution of a complex dataset. Like many unsupervised methods, RBMs are probabilistic models that make use of latent variables. This means that our visible data $\\mathbf{v}$ is explained in terms to some unobserved hidden variables $\\mathbf{h}$. The way how the hidden variables are linked to the visibele variables should give us some insight in how the data might be generated.\n",
    "\n",
    "By means of an application, we will train a RBM on the recipe data of Ahn et al. to learn the distribution of recipes. This will allow us to find new ingredient combinations and create novel recipes."
   ]
  },
  {
   "cell_type": "markdown",
   "metadata": {},
   "source": [
    "## The restricted Boltzmann machine"
   ]
  },
  {
   "cell_type": "markdown",
   "metadata": {},
   "source": [
    "Suppose we have binary data vectors $\\mathbf{v} = [v_i]$, which could represent a (binary) image, preference for certain movies, presence or absence of ingredients in a recpipe... Futhermore, we have binary hidden variabeles $\\mathbf{h} = [h_i]$ which should explain these observed data vectors. These we have to learnt from the data. In this post we will only consider binary data, making generalization to interger or real values is relatively straightforward. \n",
    "\n",
    "The degree to which a pair $(\\mathbf{v}, \\mathbf{h})$ match is given by their energy $E(\\mathbf{v}, \\mathbf{h})$, dyads that are likely are more favorable. This can be quantified probabilistically using the Boltzmann distribution:\n",
    "\n",
    "$$\n",
    "\\mathcal{P}(\\mathbf{v}, \\mathbf{h}) = \\frac{1}{Z}e^{-E(\\mathbf{v}, \\mathbf{h})}\\,,\n",
    "$$\n",
    "with $Z$ the partition function to make this distribution normalized\n",
    "$$\n",
    "Z = \\sum_\\mathbf{v} \\sum_\\mathbf{h}e^{-E(\\mathbf{v}, \\mathbf{h})}\\,.\n",
    "$$\n",
    "Unfortunately, to calculate this partition function (and hence calculate probabilities), we have to calculate a sum over a combinatorial large space!\n",
    "\n",
    "* beschrijving data \n",
    "* uitleg RMB\n",
    "* leerregels"
   ]
  },
  {
   "cell_type": "markdown",
   "metadata": {},
   "source": [
    "## Example: bars and stripes\n",
    "* voorbeeldje uitleggen en tonen"
   ]
  },
  {
   "cell_type": "markdown",
   "metadata": {},
   "source": [
    "## Thoughts for Food: a recipe restricted Boltzmann machine"
   ]
  },
  {
   "cell_type": "code",
   "execution_count": null,
   "metadata": {
    "collapsed": true
   },
   "outputs": [],
   "source": [
    "!git add RBM_blogpost.ipynb\n",
    "!git commit -am 'begun bloh'"
   ]
  }
 ],
 "metadata": {
  "kernelspec": {
   "display_name": "Python 2",
   "language": "python",
   "name": "python2"
  },
  "language_info": {
   "codemirror_mode": {
    "name": "ipython",
    "version": 2
   },
   "file_extension": ".py",
   "mimetype": "text/x-python",
   "name": "python",
   "nbconvert_exporter": "python",
   "pygments_lexer": "ipython2",
   "version": "2.7.11"
  },
  "latex_envs": {
   "bibliofile": "biblio.bib",
   "cite_by": "apalike",
   "current_citInitial": 1,
   "eqLabelWithNumbers": true,
   "eqNumInitial": 0
  }
 },
 "nbformat": 4,
 "nbformat_minor": 0
}
