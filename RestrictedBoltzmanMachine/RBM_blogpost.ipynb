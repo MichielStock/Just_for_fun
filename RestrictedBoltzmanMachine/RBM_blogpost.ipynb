{
 "cells": [
  {
   "cell_type": "markdown",
   "metadata": {},
   "source": [
    "# Recommending ingredients using restricted Boltzmann machines"
   ]
  },
  {
   "cell_type": "markdown",
   "metadata": {},
   "source": [
    "The most well-known applications of artificial neural networks is into supervised learning. Using a trainable non-linear expansion of the features, they can be used to classify images, identify odors identify genes and many other things.\n",
    "\n",
    "In contrast to supervised learning, which learns to map input to output, unsupervised learning deals with general patterns in data. It could be argued (and has been!) that the latter is the more challenging task, as it is fairly straightforward how to fit a function to labeled training data, while there is no obvious thing to optimize for finding patterns. Though in general, unsupervised learning is somewhat less well understood, it is likely the key to better AI applications, as in general we have much more unlabeled data to learn from compared to labeled data.\n",
    "\n",
    "In this post, we will discuss the restricted Bolzmann machine (RBM) as a way of fitting a distribution of a complex dataset. Like many unsupervised methods, RBMs are probabilistic models that make use of latent variables. This means that our visible data $\\mathbf{v}$ is explained in terms to some unobserved hidden variables $\\mathbf{h}$. The way how the hidden variables are linked to the visibele variables should give us some insight in how the data might be generated.\n",
    "\n",
    "By means of an application, we will train a RBM on the recipe data of Ahn et al. to learn the distribution of recipes. This will allow us to find new ingredient combinations and create novel recipes."
   ]
  },
  {
   "cell_type": "markdown",
   "metadata": {},
   "source": [
    "## The restricted Boltzmann machine"
   ]
  },
  {
   "cell_type": "markdown",
   "metadata": {},
   "source": [
    "Suppose we have binary data vectors $\\mathbf{v} = [v_i]$, which could represent a (binary) image, preference for certain movies, presence or absence of ingredients in a recpipe... Futhermore, we have binary hidden variabeles $\\mathbf{h} = [h_i]$ which should explain these observed data vectors. These we have to learnt from the data. In this post we will only consider binary data, making generalization to interger or real values is relatively straightforward. \n",
    "\n",
    "The degree to which a pair $(\\mathbf{v}, \\mathbf{h})$ match is given by their energy $E(\\mathbf{v}, \\mathbf{h})$, dyads that are likely are more favorable. This can be quantified probabilistically using the Boltzmann distribution:\n",
    "\n",
    "$$\n",
    "\\mathcal{P}(\\mathbf{v}, \\mathbf{h}) = \\frac{1}{Z}e^{-E(\\mathbf{v}, \\mathbf{h})}\\,,\n",
    "$$\n",
    "with $Z$ the partition function to make this distribution normalized\n",
    "$$\n",
    "Z = \\sum_\\mathbf{v} \\sum_\\mathbf{h}e^{-E(\\mathbf{v}, \\mathbf{h})}\\,.\n",
    "$$\n",
    "Unfortunately, to calculate this partition function (and hence calculate probabilities), we have to calculate a sum over a combinatorial large space! ...\n",
    "\n",
    "* beschrijving data \n",
    "* uitleg RMB\n",
    "* leerregels"
   ]
  },
  {
   "cell_type": "markdown",
   "metadata": {},
   "source": [
    "## Example: bars and stripes\n",
    "* voorbeeldje uitleggen en tonen"
   ]
  },
  {
   "cell_type": "code",
   "execution_count": 1,
   "metadata": {
    "collapsed": true
   },
   "outputs": [],
   "source": [
    "import numpy as np\n",
    "import matplotlib.pyplot as plt\n",
    "%matplotlib inline\n",
    "import random as rd\n",
    "from RestrictedBoltzmannMachine import RestrictedBoltzmannMachine"
   ]
  },
  {
   "cell_type": "code",
   "execution_count": 2,
   "metadata": {
    "collapsed": true
   },
   "outputs": [],
   "source": [
    "def make_bars_and_stripes(size=(10,10)):\n",
    "    # makes a sample dataset\n",
    "    direction = rd.choice([0, 1])\n",
    "    if direction == 0:\n",
    "        M = np.kron(np.random.binomial(1, 0.5, size=(size[0], 1)), np.ones((1, size[1])))\n",
    "    else:\n",
    "        M = np.kron(np.ones((size[0], 1)), np.random.binomial(1, 0.5, size=(1, size[1])))\n",
    "    return M.reshape((1, -1))\n",
    "    \n",
    "def show(vector, size=(10, 10)):\n",
    "    matrix = vector.reshape(size)\n",
    "    plt.imshow(matrix, interpolation='nearest')\n",
    "    plt.xticks([])\n",
    "    plt.yticks([])\n",
    "    plt.show()\n",
    "    \n",
    "def noise(vector, fraction=0.025):\n",
    "    # randomly flips a certain fraction of bits\n",
    "    return (vector + np.random.binomial(1, fraction, size=vector.size)) % 2"
   ]
  },
  {
   "cell_type": "code",
   "execution_count": 3,
   "metadata": {
    "collapsed": false
   },
   "outputs": [
    {
     "data": {
      "image/png": "[encoded data removed]",
      "text/plain": [
       "<matplotlib.figure.Figure at 0x10646df10>"
      ]
     },
     "metadata": {},
     "output_type": "display_data"
    }
   ],
   "source": [
    "size = (25, 30)\n",
    "M = make_bars_and_stripes(size)\n",
    "show(M, size)"
   ]
  },
  {
   "cell_type": "code",
   "execution_count": 4,
   "metadata": {
    "collapsed": false
   },
   "outputs": [
    {
     "data": {
      "image/png": "[encoded data removed]",
      "text/plain": [
       "<matplotlib.figure.Figure at 0x10484cf10>"
      ]
     },
     "metadata": {},
     "output_type": "display_data"
    }
   ],
   "source": [
    "M_noisy = noise(M)\n",
    "show(M_noisy, size)"
   ]
  },
  {
   "cell_type": "code",
   "execution_count": 5,
   "metadata": {
    "collapsed": true
   },
   "outputs": [],
   "source": [
    "dataset = np.concatenate([noise(make_bars_and_stripes(), 0) for i in range(1000)], axis=0)"
   ]
  },
  {
   "cell_type": "code",
   "execution_count": 6,
   "metadata": {
    "collapsed": true
   },
   "outputs": [],
   "source": [
    "rbm = RestrictedBoltzmannMachine(n_visible=100, n_hidden=100)"
   ]
  },
  {
   "cell_type": "code",
   "execution_count": 7,
   "metadata": {
    "collapsed": true
   },
   "outputs": [],
   "source": [
    "error = rbm.train_C1(dataset, 0.01, iterations=1000)"
   ]
  },
  {
   "cell_type": "code",
   "execution_count": 8,
   "metadata": {
    "collapsed": false
   },
   "outputs": [
    {
     "data": {
      "text/plain": [
       "<matplotlib.text.Text at 0x1021b73d0>"
      ]
     },
     "execution_count": 8,
     "metadata": {},
     "output_type": "execute_result"
    },
    {
     "data": {
      "image/png": "[encoded data removed]",
      "text/plain": [
       "<matplotlib.figure.Figure at 0x106752490>"
      ]
     },
     "metadata": {},
     "output_type": "display_data"
    }
   ],
   "source": [
    "plt.plot(error)\n",
    "plt.xlabel('iteration')\n",
    "plt.ylabel('MSE')"
   ]
  },
  {
   "cell_type": "code",
   "execution_count": 14,
   "metadata": {
    "collapsed": false
   },
   "outputs": [
    {
     "data": {
      "image/png": "[encoded data removed]",
      "text/plain": [
       "<matplotlib.figure.Figure at 0x1083c75d0>"
      ]
     },
     "metadata": {},
     "output_type": "display_data"
    }
   ],
   "source": [
    "instance = noise(make_bars_and_stripes(), 0.05)\n",
    "show(instance)"
   ]
  },
  {
   "cell_type": "code",
   "execution_count": 15,
   "metadata": {
    "collapsed": false
   },
   "outputs": [
    {
     "data": {
      "image/png": "[encoded data removed]",
      "text/plain": [
       "<matplotlib.figure.Figure at 0x1082e8610>"
      ]
     },
     "metadata": {},
     "output_type": "display_data"
    }
   ],
   "source": [
    "reconstruction = rbm.reconstruct(instance)\n",
    "show(reconstruction)"
   ]
  },
  {
   "cell_type": "code",
   "execution_count": 11,
   "metadata": {
    "collapsed": false
   },
   "outputs": [
    {
     "data": {
      "image/png": "[encoded data removed]",
      "text/plain": [
       "<matplotlib.figure.Figure at 0x108151890>"
      ]
     },
     "metadata": {},
     "output_type": "display_data"
    },
    {
     "data": {
      "image/png": "[encoded data removed]",
      "text/plain": [
       "<matplotlib.figure.Figure at 0x1081e4690>"
      ]
     },
     "metadata": {},
     "output_type": "display_data"
    },
    {
     "data": {
      "image/png": "[encoded data removed]",
      "text/plain": [
       "<matplotlib.figure.Figure at 0x108279050>"
      ]
     },
     "metadata": {},
     "output_type": "display_data"
    },
    {
     "data": {
      "image/png": "[encoded data removed]",
      "text/plain": [
       "<matplotlib.figure.Figure at 0x10832ec50>"
      ]
     },
     "metadata": {},
     "output_type": "display_data"
    },
    {
     "data": {
      "image/png": "[encoded data removed]",
      "text/plain": [
       "<matplotlib.figure.Figure at 0x108489990>"
      ]
     },
     "metadata": {},
     "output_type": "display_data"
    },
    {
     "data": {
      "image/png": "[encoded data removed]",
      "text/plain": [
       "<matplotlib.figure.Figure at 0x108489dd0>"
      ]
     },
     "metadata": {},
     "output_type": "display_data"
    },
    {
     "data": {
      "image/png": "[encoded data removed]",
      "text/plain": [
       "<matplotlib.figure.Figure at 0x1021e10d0>"
      ]
     },
     "metadata": {},
     "output_type": "display_data"
    },
    {
     "data": {
      "image/png": "[encoded data removed]",
      "text/plain": [
       "<matplotlib.figure.Figure at 0x10653fa90>"
      ]
     },
     "metadata": {},
     "output_type": "display_data"
    },
    {
     "data": {
      "image/png": "[encoded data removed]",
      "text/plain": [
       "<matplotlib.figure.Figure at 0x1065929d0>"
      ]
     },
     "metadata": {},
     "output_type": "display_data"
    },
    {
     "data": {
      "image/png": "[encoded data removed]",
      "text/plain": [
       "<matplotlib.figure.Figure at 0x1084a9650>"
      ]
     },
     "metadata": {},
     "output_type": "display_data"
    }
   ],
   "source": [
    "for i in range(10):\n",
    "    show(rbm._weights[:, i])"
   ]
  },
  {
   "cell_type": "markdown",
   "metadata": {},
   "source": [
    "## Thoughts for Food: a recipe restricted Boltzmann machine"
   ]
  },
  {
   "cell_type": "code",
   "execution_count": null,
   "metadata": {
    "collapsed": true
   },
   "outputs": [],
   "source": []
  },
  {
   "cell_type": "code",
   "execution_count": null,
   "metadata": {
    "collapsed": true
   },
   "outputs": [],
   "source": []
  },
  {
   "cell_type": "code",
   "execution_count": null,
   "metadata": {
    "collapsed": true
   },
   "outputs": [],
   "source": []
  }
 ],
 "metadata": {
  "kernelspec": {
   "display_name": "Python 2",
   "language": "python",
   "name": "python2"
  },
  "language_info": {
   "codemirror_mode": {
    "name": "ipython",
    "version": 2
   },
   "file_extension": ".py",
   "mimetype": "text/x-python",
   "name": "python",
   "nbconvert_exporter": "python",
   "pygments_lexer": "ipython2",
   "version": "2.7.11"
  },
  "latex_envs": {
   "bibliofile": "biblio.bib",
   "cite_by": "apalike",
   "current_citInitial": 1,
   "eqLabelWithNumbers": true,
   "eqNumInitial": 0
  }
 },
 "nbformat": 4,
 "nbformat_minor": 0
}
