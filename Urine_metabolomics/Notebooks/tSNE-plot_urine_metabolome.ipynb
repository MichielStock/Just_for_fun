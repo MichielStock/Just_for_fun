{
 "cells": [
  {
   "cell_type": "markdown",
   "metadata": {},
   "source": [
    "# Urine metabolome visualization\n",
    "\n",
    "**Michiel Stock**\n",
    "\n",
    "*Friday 21 July 2017*\n",
    "\n",
    "Visualization of the different metabolites found in urine."
   ]
  },
  {
   "cell_type": "code",
   "execution_count": 93,
   "metadata": {
    "collapsed": true
   },
   "outputs": [],
   "source": [
    "import pandas as pd\n",
    "import json\n",
    "import numpy as np\n",
    "from sklearn.manifold import TSNE\n",
    "import matplotlib.pyplot as plt\n",
    "%matplotlib inline\n",
    "import seaborn as sns\n",
    "from collections import Counter\n",
    "sns.set_style('white')"
   ]
  },
  {
   "cell_type": "code",
   "execution_count": 94,
   "metadata": {
    "collapsed": false
   },
   "outputs": [],
   "source": [
    "filled_markers = ('o', 'v', '^', '<', '>', '8', 's', 'p', '*', 'h', 'H', 'D', 'd', 'P', 'X')"
   ]
  },
  {
   "cell_type": "code",
   "execution_count": 95,
   "metadata": {
    "collapsed": false,
    "scrolled": true
   },
   "outputs": [
    {
     "data": {
      "text/html": [
       "<div>\n",
       "<table border=\"1\" class=\"dataframe\">\n",
       "  <thead>\n",
       "    <tr style=\"text-align: right;\">\n",
       "      <th></th>\n",
       "      <th>0</th>\n",
       "      <th>1</th>\n",
       "      <th>2</th>\n",
       "      <th>3</th>\n",
       "      <th>4</th>\n",
       "      <th>5</th>\n",
       "      <th>6</th>\n",
       "      <th>7</th>\n",
       "      <th>8</th>\n",
       "      <th>9</th>\n",
       "      <th>...</th>\n",
       "      <th>157</th>\n",
       "      <th>158</th>\n",
       "      <th>159</th>\n",
       "      <th>160</th>\n",
       "      <th>161</th>\n",
       "      <th>162</th>\n",
       "      <th>163</th>\n",
       "      <th>164</th>\n",
       "      <th>165</th>\n",
       "      <th>166</th>\n",
       "    </tr>\n",
       "  </thead>\n",
       "  <tbody>\n",
       "    <tr>\n",
       "      <th>(+)-(S)-Carvone</th>\n",
       "      <td>0</td>\n",
       "      <td>0</td>\n",
       "      <td>0</td>\n",
       "      <td>0</td>\n",
       "      <td>0</td>\n",
       "      <td>0</td>\n",
       "      <td>0</td>\n",
       "      <td>0</td>\n",
       "      <td>0</td>\n",
       "      <td>0</td>\n",
       "      <td>...</td>\n",
       "      <td>0</td>\n",
       "      <td>0</td>\n",
       "      <td>0</td>\n",
       "      <td>1</td>\n",
       "      <td>0</td>\n",
       "      <td>0</td>\n",
       "      <td>1</td>\n",
       "      <td>1</td>\n",
       "      <td>1</td>\n",
       "      <td>0</td>\n",
       "    </tr>\n",
       "    <tr>\n",
       "      <th>(+)-4-Carene</th>\n",
       "      <td>0</td>\n",
       "      <td>0</td>\n",
       "      <td>0</td>\n",
       "      <td>0</td>\n",
       "      <td>0</td>\n",
       "      <td>0</td>\n",
       "      <td>0</td>\n",
       "      <td>0</td>\n",
       "      <td>0</td>\n",
       "      <td>0</td>\n",
       "      <td>...</td>\n",
       "      <td>0</td>\n",
       "      <td>0</td>\n",
       "      <td>0</td>\n",
       "      <td>1</td>\n",
       "      <td>0</td>\n",
       "      <td>0</td>\n",
       "      <td>1</td>\n",
       "      <td>0</td>\n",
       "      <td>1</td>\n",
       "      <td>0</td>\n",
       "    </tr>\n",
       "    <tr>\n",
       "      <th>(-)-Epicatechin 3'-O-glucuronide</th>\n",
       "      <td>0</td>\n",
       "      <td>0</td>\n",
       "      <td>0</td>\n",
       "      <td>0</td>\n",
       "      <td>0</td>\n",
       "      <td>0</td>\n",
       "      <td>0</td>\n",
       "      <td>0</td>\n",
       "      <td>0</td>\n",
       "      <td>0</td>\n",
       "      <td>...</td>\n",
       "      <td>1</td>\n",
       "      <td>0</td>\n",
       "      <td>1</td>\n",
       "      <td>0</td>\n",
       "      <td>0</td>\n",
       "      <td>1</td>\n",
       "      <td>1</td>\n",
       "      <td>1</td>\n",
       "      <td>1</td>\n",
       "      <td>0</td>\n",
       "    </tr>\n",
       "    <tr>\n",
       "      <th>(-)-Epicatechin 7-O-glucuronide</th>\n",
       "      <td>0</td>\n",
       "      <td>0</td>\n",
       "      <td>0</td>\n",
       "      <td>0</td>\n",
       "      <td>0</td>\n",
       "      <td>0</td>\n",
       "      <td>0</td>\n",
       "      <td>0</td>\n",
       "      <td>0</td>\n",
       "      <td>0</td>\n",
       "      <td>...</td>\n",
       "      <td>1</td>\n",
       "      <td>0</td>\n",
       "      <td>1</td>\n",
       "      <td>0</td>\n",
       "      <td>0</td>\n",
       "      <td>1</td>\n",
       "      <td>1</td>\n",
       "      <td>1</td>\n",
       "      <td>1</td>\n",
       "      <td>0</td>\n",
       "    </tr>\n",
       "    <tr>\n",
       "      <th>(-)-Epicatechin sulfate</th>\n",
       "      <td>0</td>\n",
       "      <td>0</td>\n",
       "      <td>0</td>\n",
       "      <td>0</td>\n",
       "      <td>0</td>\n",
       "      <td>0</td>\n",
       "      <td>0</td>\n",
       "      <td>0</td>\n",
       "      <td>0</td>\n",
       "      <td>0</td>\n",
       "      <td>...</td>\n",
       "      <td>1</td>\n",
       "      <td>0</td>\n",
       "      <td>1</td>\n",
       "      <td>0</td>\n",
       "      <td>0</td>\n",
       "      <td>1</td>\n",
       "      <td>1</td>\n",
       "      <td>1</td>\n",
       "      <td>1</td>\n",
       "      <td>0</td>\n",
       "    </tr>\n",
       "  </tbody>\n",
       "</table>\n",
       "<p>5 rows × 167 columns</p>\n",
       "</div>"
      ],
      "text/plain": [
       "                                  0  1  2  3  4  5  6  7  8  9 ...   157  158  \\\n",
       "(+)-(S)-Carvone                   0  0  0  0  0  0  0  0  0  0 ...     0    0   \n",
       "(+)-4-Carene                      0  0  0  0  0  0  0  0  0  0 ...     0    0   \n",
       "(-)-Epicatechin 3'-O-glucuronide  0  0  0  0  0  0  0  0  0  0 ...     1    0   \n",
       "(-)-Epicatechin 7-O-glucuronide   0  0  0  0  0  0  0  0  0  0 ...     1    0   \n",
       "(-)-Epicatechin sulfate           0  0  0  0  0  0  0  0  0  0 ...     1    0   \n",
       "\n",
       "                                  159  160  161  162  163  164  165  166  \n",
       "(+)-(S)-Carvone                     0    1    0    0    1    1    1    0  \n",
       "(+)-4-Carene                        0    1    0    0    1    0    1    0  \n",
       "(-)-Epicatechin 3'-O-glucuronide    1    0    0    1    1    1    1    0  \n",
       "(-)-Epicatechin 7-O-glucuronide     1    0    0    1    1    1    1    0  \n",
       "(-)-Epicatechin sulfate             1    0    0    1    1    1    1    0  \n",
       "\n",
       "[5 rows x 167 columns]"
      ]
     },
     "execution_count": 95,
     "metadata": {},
     "output_type": "execute_result"
    }
   ],
   "source": [
    "fingerprints = pd.DataFrame.from_csv('../Data/metabolite_fingerprints.csv')\n",
    "fingerprints.head()"
   ]
  },
  {
   "cell_type": "code",
   "execution_count": 96,
   "metadata": {
    "collapsed": true
   },
   "outputs": [],
   "source": [
    "n_molecules, n_fingerprints = fingerprints.shape"
   ]
  },
  {
   "cell_type": "code",
   "execution_count": null,
   "metadata": {
    "collapsed": true
   },
   "outputs": [],
   "source": [
    "TSNE?"
   ]
  },
  {
   "cell_type": "code",
   "execution_count": null,
   "metadata": {
    "collapsed": false
   },
   "outputs": [],
   "source": [
    "fig, axes = plt.subplots(nrows=5, figsize=(7, 27))\n",
    "\n",
    "for i, perplexity in enumerate([2, 5, 30, 50, 100]):\n",
    "    tsne = TSNE(perplexity=perplexity)\n",
    "    X = tsne.fit_transform(fingerprints)\n",
    "    axes[i].scatter(X[:,0], X[:,1])\n",
    "    axes[i].set_title('perplexity = {}'.format(perplexity))"
   ]
  },
  {
   "cell_type": "code",
   "execution_count": null,
   "metadata": {
    "collapsed": true
   },
   "outputs": [],
   "source": [
    "tsne = TSNE(perplexity=50)\n",
    "X = tsne.fit_transform(fingerprints)\n",
    "projection = pd.DataFrame(X, index=fingerprints.index)\n",
    "projection.to_csv('../Data/tsne_projection.csv')"
   ]
  },
  {
   "cell_type": "code",
   "execution_count": null,
   "metadata": {
    "collapsed": false
   },
   "outputs": [],
   "source": [
    "plt.scatter(X[:,0], X[:,1])"
   ]
  },
  {
   "cell_type": "code",
   "execution_count": null,
   "metadata": {
    "collapsed": true
   },
   "outputs": [],
   "source": [
    "urine_metabolome = json.load(open('../Data/urine_metabolome.json', 'r'))"
   ]
  },
  {
   "cell_type": "code",
   "execution_count": null,
   "metadata": {
    "collapsed": false
   },
   "outputs": [],
   "source": [
    "metabolite_classes = [urine_metabolome[met]['class'] if 'class' in urine_metabolome[met] else 'Varia'\n",
    "                      for met in fingerprints.index]"
   ]
  },
  {
   "cell_type": "code",
   "execution_count": null,
   "metadata": {
    "collapsed": false
   },
   "outputs": [],
   "source": [
    "c = Counter(metabolite_classes)"
   ]
  },
  {
   "cell_type": "code",
   "execution_count": null,
   "metadata": {
    "collapsed": false
   },
   "outputs": [],
   "source": [
    "common_classes = sorted(c.most_common(n=11))\n",
    "common_classes"
   ]
  },
  {
   "cell_type": "code",
   "execution_count": null,
   "metadata": {
    "collapsed": true
   },
   "outputs": [],
   "source": [
    "# use only common classes\n",
    "metabolite_classes_subset = [cl if cl in set([cc for cc, _ in common_classes])\n",
    "                             else 'Varia' for cl in metabolite_classes]"
   ]
  },
  {
   "cell_type": "raw",
   "metadata": {},
   "source": [
    "colors = ['#d16c6c',\n",
    "         '#d1cb6c',\n",
    "         '#8dd16c',\n",
    "         '#6cd1bc',\n",
    "         '#6caad1',\n",
    "         '#8b6cd1',\n",
    "         '#c86cd1',\n",
    "         '#d16c8a']"
   ]
  },
  {
   "cell_type": "code",
   "execution_count": null,
   "metadata": {
    "collapsed": false
   },
   "outputs": [],
   "source": [
    "colors = sns.color_palette(\"Set2\", 11)\n",
    "# put gray last\n",
    "colors.append(colors.pop(-4))\n",
    "sns.palplot(colors)"
   ]
  },
  {
   "cell_type": "code",
   "execution_count": null,
   "metadata": {
    "collapsed": false
   },
   "outputs": [],
   "source": [
    "fig, ax = plt.subplots(figsize=(9, 6))\n",
    "markers = iter(filled_markers)\n",
    "\n",
    "for col, (cl, _) in zip(colors, common_classes):\n",
    "    mask = np.array([cl_met==cl for cl_met in metabolite_classes_subset])\n",
    "    ax.scatter(X[mask,0], X[mask,1], marker=next(markers), c=col, label=cl, alpha=0.95 if cl!='Varia' else 0.5)\n",
    "\n",
    "ax.legend(loc=9, bbox_to_anchor=(0.5, -0.1), ncol=2)\n",
    "ax.set_yticks([])\n",
    "ax.set_xticks([])\n",
    "fig.savefig('../Figures/metabolites_tsne.pdf')"
   ]
  },
  {
   "cell_type": "code",
   "execution_count": null,
   "metadata": {
    "collapsed": false
   },
   "outputs": [],
   "source": [
    "from sklearn.cluster import KMeans\n",
    "\n",
    "n_clusters = 12\n",
    "\n",
    "kmeans = KMeans(n_clusters=n_clusters)\n",
    "cluster_ids = kmeans.fit_predict(fingerprints.values)\n",
    "\n",
    "colors_cluster = sns.color_palette(\"Set1\", n_clusters)"
   ]
  },
  {
   "cell_type": "code",
   "execution_count": null,
   "metadata": {
    "collapsed": false
   },
   "outputs": [],
   "source": [
    "fig, ax = plt.subplots(figsize=(9, 6))\n",
    "ax.plot(X[:,0], X[:,1], color='w')\n",
    "\n",
    "for i, cl in enumerate(cluster_ids):\n",
    "    ax.text(X[i,0], X[i,1], str(cl), color=colors_cluster[cl])\n",
    "    \n",
    "fig.savefig('../Figures/metabolites_clustering.pdf') "
   ]
  },
  {
   "cell_type": "code",
   "execution_count": null,
   "metadata": {
    "collapsed": false
   },
   "outputs": [],
   "source": [
    "from random import randint\n",
    "\n",
    "fig, ax = plt.subplots(figsize=(9, 6))\n",
    "ax.scatter(X[:,0], X[:,1], color='gray', alpha=0.3)\n",
    "\n",
    "clusters_to_pick = set(cluster_ids)\n",
    "\n",
    "while len(clusters_to_pick):\n",
    "    i = randint(0, n_molecules-1)\n",
    "    cl_ind = cluster_ids[i]\n",
    "    if cl_ind in clusters_to_pick:\n",
    "        clusters_to_pick.remove(cl_ind)\n",
    "        ax.scatter(X[i,0], X[i,1], marker=filled_markers[cl_ind], color=colors_cluster[cl_ind], label=fingerprints.index[i])\n",
    "        \n",
    "ax.legend(loc=9, bbox_to_anchor=(0.5, -0.1), ncol=2)\n",
    "fig.savefig('../Figures/metabolites_cluster_examples.pdf')  "
   ]
  },
  {
   "cell_type": "code",
   "execution_count": null,
   "metadata": {
    "collapsed": false
   },
   "outputs": [],
   "source": [
    "diseases = []\n",
    "biofunctions = []\n",
    "pathways = []\n",
    "\n",
    "for metabolite in urine_metabolome.values():\n",
    "    if 'diseases' in metabolite:\n",
    "        diseases += metabolite['diseases']\n",
    "    if 'biofunctions' in metabolite:\n",
    "        biofunctions += metabolite['biofunctions']\n",
    "    if 'pathways' in metabolite:\n",
    "        pathways += metabolite['pathways']"
   ]
  },
  {
   "cell_type": "code",
   "execution_count": null,
   "metadata": {
    "collapsed": false
   },
   "outputs": [],
   "source": [
    "diseases_counter = Counter(diseases)\n",
    "diseases_counter.most_common(n=9)"
   ]
  },
  {
   "cell_type": "code",
   "execution_count": null,
   "metadata": {
    "collapsed": false,
    "scrolled": true
   },
   "outputs": [],
   "source": [
    "biofunctions_counter = Counter(biofunctions)\n",
    "biofunctions_counter.most_common(n=9)"
   ]
  },
  {
   "cell_type": "code",
   "execution_count": null,
   "metadata": {
    "collapsed": false
   },
   "outputs": [],
   "source": [
    "pathways_counter = Counter(pathways)\n",
    "pathways_counter.most_common(n=9)"
   ]
  },
  {
   "cell_type": "code",
   "execution_count": null,
   "metadata": {
    "collapsed": false
   },
   "outputs": [],
   "source": [
    "colors = sns.color_palette(\"Set1\", 9)\n",
    "sns.palplot(colors)\n",
    "\n",
    "figsize = (12, 12)"
   ]
  },
  {
   "cell_type": "code",
   "execution_count": null,
   "metadata": {
    "collapsed": false
   },
   "outputs": [],
   "source": [
    "fig, axes = plt.subplots(nrows=3, ncols=3, figsize=figsize)\n",
    "\n",
    "axes = iter([ax for axr in axes for ax in axr])\n",
    "colors_iter = iter(colors)\n",
    "\n",
    "for dis, _ in diseases_counter.most_common(n=9):\n",
    "    ax = next(axes)\n",
    "    col = next(colors_iter)\n",
    "    ax.set_title(dis)\n",
    "    ax.scatter(X[:,0], X[:,1], alpha=0.2, color='gray')\n",
    "    for i, (x0, x1) in enumerate(X):\n",
    "        met_name = fingerprints.index[i]\n",
    "        if 'diseases' in urine_metabolome[met_name] and dis in urine_metabolome[met_name]['diseases']:\n",
    "            ax.scatter(x0, x1, color=col)\n",
    "        ax.set_xticks([])\n",
    "        ax.set_yticks([])\n",
    "        \n",
    "fig.savefig('../Figures/diseases.pdf')"
   ]
  },
  {
   "cell_type": "code",
   "execution_count": null,
   "metadata": {
    "collapsed": false
   },
   "outputs": [],
   "source": [
    "fig, axes = plt.subplots(nrows=3, ncols=3, figsize=figsize)\n",
    "\n",
    "axes = iter([ax for axr in axes for ax in axr])\n",
    "colors_iter = iter(colors)\n",
    "\n",
    "for biofun, _ in biofunctions_counter.most_common(n=9):\n",
    "    ax = next(axes)\n",
    "    col = next(colors_iter)\n",
    "    ax.set_title(biofun)\n",
    "    ax.scatter(X[:,0], X[:,1], alpha=0.2, color='gray')\n",
    "    for i, (x0, x1) in enumerate(X):\n",
    "        met_name = fingerprints.index[i]\n",
    "        if 'biofunctions' in urine_metabolome[met_name] and biofun in urine_metabolome[met_name]['biofunctions']:\n",
    "            ax.scatter(x0, x1, color=col)\n",
    "        ax.set_xticks([])\n",
    "        ax.set_yticks([])\n",
    "        \n",
    "fig.savefig('../Figures/biofunction.pdf')"
   ]
  },
  {
   "cell_type": "code",
   "execution_count": null,
   "metadata": {
    "collapsed": false
   },
   "outputs": [],
   "source": [
    "fig, axes = plt.subplots(nrows=3, ncols=3, figsize=figsize)\n",
    "\n",
    "axes = iter([ax for axr in axes for ax in axr])\n",
    "colors_iter = iter(colors)\n",
    "\n",
    "for pathw, _ in pathways_counter.most_common(n=9):\n",
    "    ax = next(axes)\n",
    "    col = next(colors_iter)\n",
    "    ax.set_title(pathw)\n",
    "    ax.scatter(X[:,0], X[:,1], alpha=0.2, color='gray')\n",
    "    for i, (x0, x1) in enumerate(X):\n",
    "        met_name = fingerprints.index[i]\n",
    "        if 'pathways' in urine_metabolome[met_name] and pathw in urine_metabolome[met_name]['pathways']:\n",
    "            ax.scatter(x0, x1, color=col)\n",
    "        ax.set_xticks([])\n",
    "        ax.set_yticks([])\n",
    "        \n",
    "fig.savefig('../Figures/pathways.pdf')"
   ]
  },
  {
   "cell_type": "code",
   "execution_count": null,
   "metadata": {
    "collapsed": true
   },
   "outputs": [],
   "source": [
    "molecular_weigths = [met[\"average_molecular_weight\"] for met in urine_metabolome.values()]\n",
    "plt.hist(molecular_weigths)"
   ]
  }
 ],
 "metadata": {
  "anaconda-cloud": {},
  "kernelspec": {
   "display_name": "Python [conda root]",
   "language": "python",
   "name": "conda-root-py"
  },
  "language_info": {
   "codemirror_mode": {
    "name": "ipython",
    "version": 3
   },
   "file_extension": ".py",
   "mimetype": "text/x-python",
   "name": "python",
   "nbconvert_exporter": "python",
   "pygments_lexer": "ipython3",
   "version": "3.5.2"
  }
 },
 "nbformat": 4,
 "nbformat_minor": 1
}
